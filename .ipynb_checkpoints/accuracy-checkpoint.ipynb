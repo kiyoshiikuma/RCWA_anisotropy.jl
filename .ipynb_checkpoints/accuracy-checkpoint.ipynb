{
 "cells": [
  {
   "cell_type": "code",
   "execution_count": 1,
   "metadata": {},
   "outputs": [
    {
     "data": {
      "text/plain": [
       "toeplitz (generic function with 1 method)"
      ]
     },
     "execution_count": 1,
     "metadata": {},
     "output_type": "execute_result"
    }
   ],
   "source": [
    "include(\"RCWA_2D_new.jl\")\n",
    "include(\"fft_permittivity.jl\")\n",
    "include(\"K_calc.jl\")\n",
    "include(\"homogeneous_eigen.jl\")\n",
    "include(\"S_calc.jl\")\n",
    "include(\"P_Q_calc.jl\")\n",
    "include(\"layer_eigen.jl\")\n",
    "include(\"Redheffer_star.jl\")\n",
    "include(\"Pol_Cin_calc.jl\")\n",
    "include(\"Toeplitz_make.jl\")"
   ]
  },
  {
   "cell_type": "code",
   "execution_count": 5,
   "metadata": {},
   "outputs": [],
   "source": [
    "# running 2D_RCWA\n",
    "θ = 40\n",
    "ϕ = 0\n",
    "Λx = 12\n",
    "Λy = 12\n",
    "d = [5 8 5]\n",
    "Φ = 0;"
   ]
  },
  {
   "cell_type": "code",
   "execution_count": null,
   "metadata": {},
   "outputs": [],
   "source": [
    "include(\"RCWA_2D_new.jl\")\n",
    "include(\"RCWA_2D.jl\")\n",
    "include(\"Toeplitz_make.jl\")\n",
    "include(\"Toeplitz_x_to_y.jl\")\n",
    "\n",
    "Nx = 1200\n",
    "Ny = 1200\n",
    "x_start = 200\n",
    "y_start = 200\n",
    "x_end = 1000\n",
    "y_end = 1000\n",
    "n = 1.6 ^2\n",
    "angle = 0\n",
    "\n",
    "pp = 120 # GHz\n",
    "\n",
    "syu = (2.9979e+05 ./ ((1 .+ pp./ 1))) .* 10^-3\n",
    "\n",
    "nu = 1 .+ pp./ 1\n",
    "\n",
    "P = collect(1:20)\n",
    "\n",
    "function RCWA2D_run(λ_1, θ, ϕ, Λx, Λy, d, Φ, P)\n",
    " \n",
    "    Tl = zeros(length(P))\n",
    "\n",
    "    Tp_0_0 = zeros(length(P))\n",
    "\n",
    "    Tl_1 = zeros(length(P))\n",
    "\n",
    "    Tp_0_0_1 = zeros(length(P))\n",
    "    \n",
    "    @inbounds for (i, P_1) in enumerate(P)\n",
    "\n",
    "        E_2_1 = beta_n(Nx, Ny, x_start, x_end, y_start, y_end, n, angle, P_1);\n",
    "        \n",
    "        F_2 = Fourier_permittivity(Nx, Ny, x_start, x_end, y_start, y_end, n, angle);\n",
    "        \n",
    "        # making Toeplitz P=Q \n",
    "  \n",
    "        Q = Int(P_1)\n",
    "        \n",
    "        N = Int(P_1)\n",
    "        \n",
    "        M = Q\n",
    "        \n",
    "        E_1_1 = 1.6^2 * Matrix(I, (2*P_1 + 1)*(2*Q + 1), (2*P_1 + 1)*(2*Q + 1));\n",
    "        \n",
    "        E_2 = toeplitz(F_2, P_1, Q);\n",
    "        \n",
    "        E_matrix_1 = []\n",
    "        \n",
    "        E_matrix = []\n",
    "        \n",
    "        push!(E_matrix, E_2)\n",
    "        \n",
    "        push!(E_matrix, E_1_1)\n",
    "    \n",
    "        push!(E_matrix, E_2);\n",
    "    \n",
    "        push!(E_matrix_1, E_2_1)\n",
    "    \n",
    "        push!(E_matrix_1, E_1_1)\n",
    "    \n",
    "        push!(E_matrix_1, E_2_1);\n",
    "        \n",
    "        R, Tl[i], Tp, Tp_0_0_matrix = RCWA2D_new(λ_1, θ, ϕ, Λx, Λy, d, E_matrix, E_matrix, P_1, Q, Φ)\n",
    "\n",
    "        Tp_0_0[i] = Tp_0_0_matrix[Int(((2*N+1)^2+1)/2)]\n",
    "\n",
    "        R, Tl_1[i], Tp, Tp_0_0_matrix = RCWA2D_new(λ_1, θ, ϕ, Λx, Λy, d, E_matrix, E_matrix_1, P_1, Q, Φ)\n",
    "\n",
    "        Tp_0_0_1[i] = Tp_0_0_matrix[Int(((2*N+1)^2+1)/2)]\n",
    "\n",
    "    end\n",
    "\n",
    "    return Tl, Tp_0_0, Tl_1, Tp_0_0_1\n",
    "\n",
    "end\n",
    "\n",
    "@time Tl, Tp_0_0, Tl_1, Tp_0_0_1 = RCWA2D_run(syu, θ, ϕ, Λx, Λy, d, Φ, P);"
   ]
  },
  {
   "cell_type": "code",
   "execution_count": null,
   "metadata": {},
   "outputs": [],
   "source": [
    "fig = PyPlot.figure()\n",
    "\n",
    "fig.set_figheight(10)\n",
    "fig.set_figwidth(15)\n",
    "\n",
    "#PyPlot.plot(nu, Tl,label =\"Julia\")\n",
    "#PyPlot.plot(nu, Tl_1,label =\"Julia_new\")\n",
    "\n",
    "PyPlot.plot(P, Tp_0_0,label =\"Julia\")\n",
    "PyPlot.plot(P, Tp_0_0_1,label =\"Julia_new\")\n",
    "\n",
    "PyPlot.xlabel(\"Frequency (GHz)\", fontsize=40)\n",
    "PyPlot.ylabel(\"Transmittance\", fontsize=40)\n",
    "PyPlot.grid()\n",
    "PyPlot.legend(fontsize=40)\n",
    "PyPlot.title(\"Trasmittance\", fontsize=40)\n",
    "PyPlot.ylim(0,1.1)\n",
    "#PyPlot.xlim(100, 140)\n",
    "PyPlot.show()"
   ]
  },
  {
   "cell_type": "code",
   "execution_count": null,
   "metadata": {},
   "outputs": [],
   "source": []
  },
  {
   "cell_type": "code",
   "execution_count": null,
   "metadata": {},
   "outputs": [],
   "source": []
  },
  {
   "cell_type": "code",
   "execution_count": null,
   "metadata": {},
   "outputs": [],
   "source": []
  },
  {
   "cell_type": "code",
   "execution_count": null,
   "metadata": {},
   "outputs": [],
   "source": []
  }
 ],
 "metadata": {
  "kernelspec": {
   "display_name": "Julia (3 threads) 1.9.1",
   "language": "julia",
   "name": "julia-3-threads-1.9"
  },
  "language_info": {
   "file_extension": ".jl",
   "mimetype": "application/julia",
   "name": "julia",
   "version": "1.9.1"
  }
 },
 "nbformat": 4,
 "nbformat_minor": 4
}
