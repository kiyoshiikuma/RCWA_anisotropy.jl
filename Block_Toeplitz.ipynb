{
 "cells": [
  {
   "cell_type": "code",
   "execution_count": 5,
   "id": "d4a9d50e-8f12-47e7-be77-f53d0201a02f",
   "metadata": {},
   "outputs": [
    {
     "name": "stdout",
     "output_type": "stream",
     "text": [
      "[[1 2 5 6]\n",
      " [3 4 7 8]\n",
      " [5 6 1 2]\n",
      " [7 8 3 4]]\n"
     ]
    }
   ],
   "source": [
    "import numpy as np\n",
    "\n",
    "def create_block_matrix(*matrices):\n",
    "    \n",
    "    num_matrices = len(matrices)\n",
    "    \n",
    "    \n",
    "    matrix_size = matrices[0].shape\n",
    "    for matrix in matrices:\n",
    "        if matrix.shape != matrix_size:\n",
    "            raise ValueError(\"Input matrices must have the same shape.\")\n",
    "    \n",
    "    n = matrix_size[0]  \n",
    "    \n",
    "    \n",
    "    block_matrix = np.zeros((n * num_matrices, n * num_matrices), dtype=matrices[0].dtype)\n",
    "    \n",
    "    \n",
    "    for i in range(num_matrices):\n",
    "        for j in range(num_matrices):\n",
    "            block_matrix[i*n:(i+1)*n, j*n:(j+1)*n] = matrices[(i+j) % num_matrices]\n",
    "    \n",
    "    return block_matrix\n",
    "\n",
    "\n",
    "A = np.array([[1, 2], [3, 4]])\n",
    "B = np.array([[5, 6], [7, 8]])\n",
    "C = np.array([[9, 10], [11, 12]])\n",
    "\n",
    "block_result = create_block_matrix(A, B)\n",
    "print(block_result)\n"
   ]
  },
  {
   "cell_type": "code",
   "execution_count": 6,
   "id": "51553963-ccf2-4e37-8265-a6e17c7845d4",
   "metadata": {},
   "outputs": [
    {
     "name": "stdout",
     "output_type": "stream",
     "text": [
      "[[ 1  2  5  6  9 10  9 10  9 10]\n",
      " [ 3  4  7  8 11 12 11 12 11 12]\n",
      " [ 5  6  9 10  9 10  9 10  1  2]\n",
      " [ 7  8 11 12 11 12 11 12  3  4]\n",
      " [ 9 10  9 10  9 10  1  2  5  6]\n",
      " [11 12 11 12 11 12  3  4  7  8]\n",
      " [ 9 10  9 10  1  2  5  6  9 10]\n",
      " [11 12 11 12  3  4  7  8 11 12]\n",
      " [ 9 10  1  2  5  6  9 10  9 10]\n",
      " [11 12  3  4  7  8 11 12 11 12]]\n"
     ]
    }
   ],
   "source": [
    "import numpy as np\n",
    "\n",
    "def create_block_matrix(*matrices):\n",
    "    # 入力行列の数を取得\n",
    "    num_matrices = len(matrices)\n",
    "    \n",
    "    if num_matrices == 0:\n",
    "        raise ValueError(\"At least one input matrix is required.\")\n",
    "    \n",
    "    # 各行列のサイズを確認し、一致しない場合はエラーを発生させる\n",
    "    matrix_size = matrices[0].shape\n",
    "    for matrix in matrices:\n",
    "        if matrix.shape != matrix_size:\n",
    "            raise ValueError(\"Input matrices must have the same shape.\")\n",
    "    \n",
    "    n = matrix_size[0]  # 各行列のサイズ\n",
    "    \n",
    "    # ブロック行列を初期化\n",
    "    block_matrix = np.zeros((n * num_matrices, n * num_matrices), dtype=matrices[0].dtype)\n",
    "    \n",
    "    # ブロック行列に行列を配置\n",
    "    for i in range(num_matrices):\n",
    "        for j in range(num_matrices):\n",
    "            block_matrix[i*n:(i+1)*n, j*n:(j+1)*n] = matrices[(i+j) % num_matrices]\n",
    "    \n",
    "    return block_matrix\n",
    "\n",
    "# 使用例\n",
    "A = np.array([[1, 2], [3, 4]])\n",
    "B = np.array([[5, 6], [7, 8]])\n",
    "C = np.array([[9, 10], [11, 12]])\n",
    "\n",
    "block_result = create_block_matrix(A, B, C, C, C)\n",
    "print(block_result)\n"
   ]
  },
  {
   "cell_type": "code",
   "execution_count": 75,
   "id": "e550e78f-8915-45ac-b36c-7335308a6ebb",
   "metadata": {},
   "outputs": [
    {
     "name": "stdout",
     "output_type": "stream",
     "text": [
      "6\n",
      "[[ 1.  2.  5.  6.  9. 10.]\n",
      " [ 3.  4.  7.  8. 11. 12.]\n",
      " [17. 18.  1.  2.  5.  6.]\n",
      " [19. 20.  3.  4.  7.  8.]\n",
      " [13. 14. 17. 18.  1.  2.]\n",
      " [15. 16. 19. 20.  3.  4.]]\n",
      "[[13. 14. 16. 17. 18. 20.]\n",
      " [15. 16. 19. 19. 20. 11.]\n",
      " [17. 18. 20. 13. 14. 16.]\n",
      " [19. 20. 11. 15. 16. 19.]]\n"
     ]
    }
   ],
   "source": [
    "import numpy as np\n",
    "\n",
    "def create_block_matrix(matrices):\n",
    "    n = len(matrices)\n",
    "    if n == 0:\n",
    "        return None\n",
    "\n",
    "    rows, cols = matrices[0].shape\n",
    "    block_rows = n * rows\n",
    "    block_cols = n * cols\n",
    "\n",
    "    block_matrix = np.zeros((block_rows, block_cols))\n",
    "\n",
    "    for i in range(n):\n",
    "        for j in range(n):\n",
    "            block_matrix[i * rows:(i + 1) * rows, j * cols:(j + 1) * cols] = matrices[(j - i) % n]\n",
    "\n",
    "    return block_matrix\n",
    "\n",
    "# 例: A, B, C, D, E を行列として作成\n",
    "A = np.array([[1, 2], [3, 4]])\n",
    "B = np.array([[5, 6], [7, 8]])\n",
    "C = np.array([[9, 10], [11, 12]])\n",
    "D = np.array([[13, 14], [15, 16]])\n",
    "E = np.array([[17, 18], [19, 20]])\n",
    "\n",
    "# 行列をリストにまとめて、指定されたパターンで block 行列を生成\n",
    "matrices = [A, B, C, D, E]\n",
    "block_matrix = create_block_matrix(matrices)\n",
    "\n",
    "F = np.array([[13, 14, 16], [15, 16, 19]])\n",
    "G = np.array([[17, 18, 20], [19, 20, 11]])\n",
    "\n",
    "block_matrix_1 = create_block_matrix([F,G])\n",
    "\n",
    "\n",
    "N_0 =len(A)\n",
    "\n",
    "N = 2\n",
    "\n",
    "N_1 = (N+1) * N_0\n",
    "print(N_1)\n",
    "print(block_matrix[:N_1, :N_1])\n",
    "print(block_matrix_1)"
   ]
  },
  {
   "cell_type": "code",
   "execution_count": 8,
   "id": "f788f6b4-e180-4249-80d5-30cb102aaa8c",
   "metadata": {},
   "outputs": [
    {
     "name": "stdout",
     "output_type": "stream",
     "text": [
      "[[1 2 3 1 2]\n",
      " [4 5 6 1 2]\n",
      " [7 8 9 1 2]\n",
      " [7 8 9 1 2]\n",
      " [7 8 9 1 2]]\n"
     ]
    }
   ],
   "source": [
    "import numpy as np\n",
    "\n",
    "N = 4  \n",
    "matrix = np.array([[1, 2, 3, 1, 2, 3],\n",
    "                   [4, 5, 6, 1, 2, 3],\n",
    "                   [7, 8, 9, 1, 2, 3],\n",
    "                   [7, 8, 9, 1, 2, 3],\n",
    "                   [7, 8, 9, 1, 2, 3]])\n",
    "\n",
    "matrix = matrix[:N+1, :N+1]\n",
    "\n",
    "print(matrix)"
   ]
  },
  {
   "cell_type": "code",
   "execution_count": 76,
   "id": "e1179e49-c447-411b-b075-e484d7541a51",
   "metadata": {},
   "outputs": [
    {
     "data": {
      "text/plain": [
       "[array([[1, 2],\n",
       "        [3, 4]]),\n",
       " array([[5, 6],\n",
       "        [7, 8]]),\n",
       " array([[5, 6],\n",
       "        [7, 8]])]"
      ]
     },
     "execution_count": 76,
     "metadata": {},
     "output_type": "execute_result"
    }
   ],
   "source": [
    "import numpy as np\n",
    "\n",
    "N = 3\n",
    "n = 2\n",
    "A = np.array([[[1, 2], [3, 4]], [[5, 6], [7, 8]], [[5, 6], [7, 8]]])\n",
    "\n",
    "AA = [A[i, :, :] for i in range(N)]\n",
    "AA[1].shape\n",
    "AA"
   ]
  },
  {
   "cell_type": "code",
   "execution_count": 71,
   "id": "452fe30e-fe65-4033-9a3b-da07725f3351",
   "metadata": {},
   "outputs": [
    {
     "name": "stdout",
     "output_type": "stream",
     "text": [
      "[[1. 2. 5. 6. 5. 6.]\n",
      " [3. 4. 7. 8. 7. 8.]\n",
      " [5. 6. 1. 2. 5. 6.]\n",
      " [7. 8. 3. 4. 7. 8.]\n",
      " [5. 6. 5. 6. 1. 2.]\n",
      " [7. 8. 7. 8. 3. 4.]]\n"
     ]
    }
   ],
   "source": [
    "print(create_block_matrix(AA))"
   ]
  },
  {
   "cell_type": "code",
   "execution_count": null,
   "id": "85b31b72-1417-4597-a43f-8b57bc33a5df",
   "metadata": {},
   "outputs": [],
   "source": []
  },
  {
   "cell_type": "code",
   "execution_count": 67,
   "id": "ff497cf6-01aa-4fed-986c-3921138d5243",
   "metadata": {},
   "outputs": [
    {
     "name": "stdout",
     "output_type": "stream",
     "text": [
      "True\n"
     ]
    }
   ],
   "source": [
    "import numpy as np\n",
    "\n",
    "# リストの作成\n",
    "my_list = [1, 2, 3, 4, 5]\n",
    "\n",
    "# リストをNumPyの配列に変換\n",
    "#my_array = np.array(my_list)\n",
    "\n",
    "# 配列を表示\n",
    "print(isinstance(AA[1], np.ndarray))"
   ]
  },
  {
   "cell_type": "code",
   "execution_count": null,
   "id": "3abff39f-7cfc-4c6f-84c5-fd51d294cc99",
   "metadata": {},
   "outputs": [],
   "source": []
  }
 ],
 "metadata": {
  "kernelspec": {
   "display_name": "Python 3 (ipykernel)",
   "language": "python",
   "name": "python3"
  },
  "language_info": {
   "codemirror_mode": {
    "name": "ipython",
    "version": 3
   },
   "file_extension": ".py",
   "mimetype": "text/x-python",
   "name": "python",
   "nbconvert_exporter": "python",
   "pygments_lexer": "ipython3",
   "version": "3.10.12"
  }
 },
 "nbformat": 4,
 "nbformat_minor": 5
}
